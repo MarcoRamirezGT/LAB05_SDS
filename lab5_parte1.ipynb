{
 "cells": [
  {
   "attachments": {},
   "cell_type": "markdown",
   "metadata": {},
   "source": [
    "LAB 5 - PARTE 1"
   ]
  },
  {
   "attachments": {},
   "cell_type": "markdown",
   "metadata": {},
   "source": [
    "Librerías a utilizar"
   ]
  },
  {
   "cell_type": "code",
   "execution_count": 41,
   "metadata": {},
   "outputs": [],
   "source": [
    "from scapy.all import * # Packet manipulation\n",
    "import pandas as pd # Pandas - Create and Manipulate DataFrames\n",
    "import numpy as np # Math Stuff (don't worry only used for one line :] )\n",
    "import binascii # Binary to Ascii \n",
    "import seaborn as sns\n",
    "sns.set(color_codes=True)\n",
    "%matplotlib inline"
   ]
  },
  {
   "attachments": {},
   "cell_type": "markdown",
   "metadata": {},
   "source": [
    "Capturar 10 paquetes y mostrar el tipo de dato, la longitud y el contenido del pcap"
   ]
  },
  {
   "cell_type": "code",
   "execution_count": 42,
   "metadata": {},
   "outputs": [
    {
     "name": "stdout",
     "output_type": "stream",
     "text": [
      "<class 'scapy.plist.PacketList'>\n",
      "10\n",
      "<Sniffed: TCP:10 UDP:0 ICMP:0 Other:0>\n"
     ]
    },
    {
     "data": {
      "text/plain": [
       "<Ether  dst=a0:e7:0b:1b:b8:90 src=fc:52:8d:63:4c:7a type=IPv4 |<IP  version=4 ihl=5 tos=0x0 len=1500 id=12452 flags=DF frag=0 ttl=103 proto=tcp chksum=0x119e src=104.46.162.226 dst=192.168.0.33 |<TCP  sport=https dport=51021 seq=867856813 ack=1081311471 dataofs=5 reserved=0 flags=A window=2051 chksum=0x39a9 urgptr=0 |<Raw  load='\\x16\\x03\\x03\\x11\\\\x95\\x02\\x00\\x00Q\\x03\\x03d;L\\\\xa0\\\\x82\\x0b\\\\xcb\\\\xd7m:\\\\xefՔ2\\\\xcf&\\x19\\\\xc8\\\\xcd<\\\\xba<\\x0ba\\\\xfbg\\\\xe4tr\\\\x95\\x0c\\\\x84 \\x04\\x1f\\x00\\x00\\\\x96\\x00\\\\xd41\\\\x9ff\\\\x8e\\\\xf6\\\\xc4/\\\\xdb\\\\xc2\\\\xe7\\\\xf5Õ4W\\\\xf9%\\\\xb3\\\\x93&\\\\xf9+}\\x15q\\\\xc00\\x00\\x00\\t\\x00\\x17\\x00\\x00\\\\xff\\x01\\x00\\x01\\x00\\x0b\\x00\\x0f\\\\xcb\\x00\\x0f\\\\xc8\\x00\\t\\\\xcb0\\\\x82\\t\\\\xc70\\\\x82\\x07\\\\xaf\\\\xa0\\x03\\x02\\x01\\x02\\x02\\x133\\x00\\\\x99+\\\\xc4\\\\xee\\\\xcez\\\\xc3u\\\\xb2\\\\xc5V\\x00\\x00\\x00\\\\x99+\\\\xc40\\r\\x06\\t*\\\\x86H\\\\x86\\\\xf7\\r\\x01\\x01\\x0c\\x05\\x000Y1\\x0b0\\t\\x06\\x03U\\x04\\x06\\x13\\x02US1\\x1e0\\x1c\\x06\\x03U\\x04\\n\\x13\\x15Microsoft Corporation1*0(\\x06\\x03U\\x04\\x03\\x13!Microsoft Azure TLS Issuing CA 010\\x1e\\x17\\r230308062016Z\\x17\\r240302062016Z0r1\\x0b0\\t\\x06\\x03U\\x04\\x06\\x13\\x02US1\\x0b0\\t\\x06\\x03U\\x04\\x08\\x13\\x02WA1\\x100\\x0e\\x06\\x03U\\x04\\x07\\x13\\x07Redmond1\\x1e0\\x1c\\x06\\x03U\\x04\\n\\x13\\x15Microsoft Corporation1$0\"\\x06\\x03U\\x04\\x03\\x0c\\x1b*.events.data.microsoft.com0\\\\x82\\x01\"0\\r\\x06\\t*\\\\x86H\\\\x86\\\\xf7\\r\\x01\\x01\\x01\\x05\\x00\\x03\\\\x82\\x01\\x0f\\x000\\\\x82\\x01\\n\\x02\\\\x82\\x01\\x01\\x00\\\\xbfĈl\\x13\\\\xfa\\\\xb1\\\\xda\\x13>ڿ\\\\x85\\\\x86;\\\\xf0o\\x8c\\\\xfc\\\\xaeO\\\\xa0\\\\xfd\\\\xf8\\x1a\\\\x89#\\x1cT\\\\xc8q\\x1e\\\\x93\\x1c5\\\\xfc\\x15DC\\\\xc8 \\r<uU\\\\xbb\\\\xa0>\\\\xefU\\\\xa3b\\\\xec\\\\xe4v\\\\x83hsG\\\\x82\\\\x8a\\\\x8050\\\\xfb\\\\xff4G\\\\x90y\\\\xc4H3\\n.G\\\\xb4~ϒ\\\\xc3*\\\\xb2\"\\x01\\x0fu\\\\x962\\\\xb5\\x0fi\\\\xa0W\\x16\\x1e\\\\x9aQI\\\\x92\\\\\\\\xf1\\x1fK;\\\\xeb\\\\xa1\\\\xc87C\\\\xc9\\\\xe6[\\\\xe6\\\\x820\\\\x8e\\\\xf5q\\\\xab\\\\x8cÝ\\\\xca\\\\xd1\\x16>\\x13B\\\\xe6\\\\xa8\\x03Qۖ\\x19k\\\\xcai{\\\\xc2\\\\xeb\\\\xf7\\\\xdaJv\\t\\\\xd3\\\\xfeLv\\\\xbea\\x1e>\\x1b\\x11\\x11\\\\xb5\\\\xf8LD\\\\xdcn\\\\xbd\\x14d\\\\x85\\x04\\\\xc0\\\\xd7\\x130\\\\xfd\\\\xe3\\\\x83;\\\\xd9E+A-ा\\\\x82\\\\xc1\\\\x8a\\\\xe9Mf\\\\xbf\\\\x8fR\\\\x8d\\\\xafʴ\\\\x93\\\\xdd@Wk_\\x0b\\\\xa0\\\\x9c\\\\xbd\\\\xbb\\x0c\\\\xee\\\\xe7\\x7f\\\\xb6s\\\\xec\\\\xc5\\x11\\\\x99\\\\xf1\\\\x9c+\\\\xc1Z\\\\xce\\x11\\\\xe3\\x04\\\\xef<\\\\xb1h\\x1dqK\\\\xc4e\\x07!b\\x0fŠ\\\\xf0\\\\xe4\\\\xab\\x02V\\t\\\\x96Ht\\\\xf1\\\\x87\\\\xad\\x02\\x03\\x01\\x00\\x01\\\\xa3\\\\x82\\x05m0\\\\x82\\x05i0\\\\x82\\x01\\x7f\\x06\\n+\\x06\\x01\\x04\\x01\\\\xd6y\\x02\\x04\\x02\\x04\\\\x82\\x01o\\x04\\\\x82\\x01k\\x01i\\x00w\\x00U\\\\x81\\\\xd4\\\\xc2\\x16\\\\x906\\x01J\\\\xea\\x0b\\\\x9bW<S\\\\xf0\\\\xc0\\\\xe48xp%\\x08\\x17/\\\\xa3\\\\xaa\\x1d\\x07\\x13\\\\xd3\\x0c\\x00\\x00\\x01\\\\x86\\\\xbf\\\\xe9\\\\xe2g\\x00\\x00\\x04\\x03\\x00H0F\\x02!\\x00\\\\xbe\\\\xad\\\\x92\\\\xb4\\'\\\\xb7m\\\\x93M\\\\xc5\\n\\\\xc7\\'\\\\xaaW\\\\xa4{\\\\xb7\\u05ec@c\\\\xc7pԽBW\\\\xd3\\\\xfd\\\\xfeI\\x02!\\x00\\\\x9e\\\\x81-ĵr\\\\xe90\\\\x9bx\\\\xfd\\\\xe0{\\\\x90\\\\xc3\\\\xd8\\x15\\x1c\\nm\\x18H\\\\x83\\\\xce\\x08\\\\x9bH\\\\xd9I\\\\xa7e\\\\xde\\x00v\\x00sٞ\\\\x89\\x1bL\\\\x96x\\\\xa0 }G\\\\x9d\\\\xe6\\\\xb2\\\\xc6\\x1c\\\\xd0Q^q\\x19*\\\\x8ck\\\\x80\\x10z\\\\xc1wr\\\\xb5\\x00\\x00\\x01\\\\x86\\\\xbf\\\\xe9\\\\xe2r\\x00\\x00\\x04\\x03\\x00G0E\\x02 *S\\\\x8a\\\\x82n\\\\xa9f\\x1d\\\\xa4\\x13\\x03\\\\xfa\\\\x92\\\\xb3\\\\xeet\\\\xaeX[Ƙ\\\\xc6\\\\V\\\\x9d[?\\\\xe1\\x10=6S\\x02!\\x00\\\\xc3\\\\xdf\\\\xda\\ny\\\\xefh)\\\\xf3\\\\xfc)R\\\\x923Py\\\\xf3a]\\\\x95\\\\xdd\\\\xcew\\\\xbf*^\\\\x92W\\x1e$`Z\\x00v\\x00ڶ\\\\xbfk?\\\\xb5\\\\xb6\"\\\\x9f\\\\x9b»\\\\k\\\\xe8p\\\\x91ql\\\\xbbQ\\\\x84\\\\x854\\\\xbd\\\\xa4=0H\\\\xd7\\\\xfb\\\\xab\\x00\\x00\\x01\\\\x86\\\\xbf\\\\xe9\\\\xe2\\x16\\x00\\x00\\x04\\x03\\x00G0E\\x02!\\x00\\\\x8bx\\\\xcb֠\\\\xa1\\x10\\\\xf2\\\\xc8\\x03k\\\\x89\\\\xa0\\\\x87\\\\xa7\\x04\\\\xdf\\\\xe4\\\\xd54N\\\\xbaJ\\\\xdf8\\x100۲\\\\xedM?\\x02 \\x02&\\\\xa2\\\\x85\\\\xd2\\\\xeeѯ\\x0b\\\\xf1\\\\x94\\\\xec\\\\xe4\\x11\\\\xab\\\\xc8U\\\\xa5b\\x01\\\\xa5\\\\x88\\\\xeb{\\\\xd0\\x13\\\\x83\\\\xf1\\\\xb0r\\\\xa9\\x080\\'\\x06\\t+\\x06\\x01\\x04\\x01\\\\x827\\x15\\n\\x04\\x1a0\\x180\\n\\x06\\x08+\\x06\\x01\\x05\\x05\\x07\\x03\\x020\\n\\x06\\x08+\\x06\\x01\\x05\\x05\\x07\\x03\\x010<\\x06\\t+\\x06\\x01\\x04\\x01\\\\x827\\x15\\x07\\x04/0-\\x06%+\\x06\\x01\\x04\\x01\\\\x827\\x15\\x08\\\\x87\\\\xbd\\\\xd7\\x1b\\\\x81\\\\xe7\\\\xebF\\\\x82\\\\x81\\\\x9d.\\\\x8e\\\\xd0\\x0c\\\\x87\\\\xf0\\\\xda\\x1d]\\\\x82\\\\x84\\\\xe5i\\\\x82\\\\xf3\\\\xa7>\\x02\\x01d\\x02\\x01%0\\\\x81\\\\xae\\x06\\x08+\\x06\\x01\\x05\\x05\\x07\\x01\\x01\\x04\\\\x81\\\\xa10\\\\x81\\\\x9e0m\\x06\\x08+\\x06\\x01\\x05\\x05\\x070\\x02\\\\x86ahttp://www.microsoft.com/pkiops/certs/Microsoft%20Azure%20TLS%20Issuing%20CA%2001%20-%20xsign.crt0-\\x06\\x08+\\x06\\x01\\x05\\x05\\x070\\x01\\\\x86!http://oneocsp.microsoft.com/ocsp0\\x1d\\x06\\x03U\\x1d\\x0e\\x04\\x16\\x04\\x14:\\\\xc6)1\\\\x83\\\\xd3\\\\xf5\\\\xa0o\\x11\\x08\\\\x83[/\\\\xf2\\\\xaa\\x03]\\\\xe1\\\\xc00\\x0e\\x06\\x03U\\x1d\\x0f\\x01\\x01\\\\xff\\x04\\x04\\x03\\x02\\x04\\\\xb00\\\\x82\\x01\\x7f\\x06\\x03U\\x1d\\x11\\x04\\\\x82\\x01v0\\\\x82\\x01r\\\\x82\\x1b*.events.data.microsoft.com\\\\x82\\x19events.d' |>>>>"
      ]
     },
     "execution_count": 42,
     "metadata": {},
     "output_type": "execute_result"
    }
   ],
   "source": [
    "num_of_packets_to_sniff = 10\n",
    "pcap = sniff(count=num_of_packets_to_sniff)\n",
    "\n",
    "# rdpcap returns packet list\n",
    "## packetlist object can be enumerated \n",
    "print(type(pcap))\n",
    "print(len(pcap))\n",
    "print(pcap)\n",
    "pcap[0]"
   ]
  },
  {
   "attachments": {},
   "cell_type": "markdown",
   "metadata": {},
   "source": [
    "Convertir a DF"
   ]
  },
  {
   "cell_type": "code",
   "execution_count": 43,
   "metadata": {},
   "outputs": [
    {
     "name": "stdout",
     "output_type": "stream",
     "text": [
      "  version ihl tos   len     id flags frag  ttl proto chksum  ... dataofs  \\\n",
      "0       4   5   0  1500  12452    DF    0  103     6   4510  ...       5   \n",
      "1       4   5   0  1500  12453    DF    0  103     6   4509  ...       5   \n",
      "2       4   5   0  1500  12454    DF    0  103     6   4508  ...       5   \n",
      "3       4   5   0   166  12455    DF    0  103     6   5841  ...       5   \n",
      "4       4   5   0    40  57793    DF    0  128     6      0  ...       5   \n",
      "\n",
      "  reserved flags  window chksum urgptr options payload  \\\n",
      "0        0     A    2051  14761      0       0    1460   \n",
      "1        0     A    2051  36329      0       0    1460   \n",
      "2        0     A    2051  58974      0       0    1460   \n",
      "3        0    PA    2051  44490      0       0     126   \n",
      "4        0     A     517  52212      0    None       0   \n",
      "\n",
      "                                         payload_raw  \\\n",
      "0  b'\\x16\\x03\\x03\\x11\\x95\\x02\\x00\\x00Q\\x03\\x03d;L...   \n",
      "1  b'ata.microsoft.com\\x82\\x19*.pipe.aria.microso...   \n",
      "2  b'\\x9cU\\x9bQG,3@\\xf4\\x88\\xf0\\x1d\\xa3(i\\x8f\\x1a...   \n",
      "3  b\"hl^, \\xc6\\x96\\xf2\\t\\xd5\\xcd\\xff\\x89\\xf2\\x01c...   \n",
      "4                                                b''   \n",
      "\n",
      "                                         payload_hex  \n",
      "0  b'1603031195020000510303643b4ca0820bcbd76d3aef...  \n",
      "1  b'6174612e6d6963726f736f66742e636f6d82192a2e70...  \n",
      "2  b'9c559b51472c3340f488f01da328698f1aaeaa99e067...  \n",
      "3  b'686c5e2c20c696f209d5cdff89f2016344ebec39c964...  \n",
      "4                                                b''  \n",
      "\n",
      "[5 rows x 28 columns]\n"
     ]
    }
   ],
   "source": [
    "# Obtenemos los campos de IP/TCP/UDP que seran las columnas de nuestro DF\n",
    "ip_fields = [field.name for field in IP().fields_desc]\n",
    "tcp_fields = [field.name for field in TCP().fields_desc]\n",
    "udp_fields = [field.name for field in UDP().fields_desc]\n",
    "\n",
    "#Concatenamos todos los campos\n",
    "dataframe_fields = ip_fields + ['time'] + tcp_fields + ['payload','payload_raw','payload_hex']\n",
    "\n",
    "# Creamos un DF en blanco con los campos como columnas\n",
    "df = pd.DataFrame(columns=dataframe_fields)\n",
    "for packet in pcap[IP]:\n",
    "    # Obtenemos los valores de los campos de cada fila\n",
    "    field_values = []\n",
    "    # A;adimos todos los valores de los campos de IP al df\n",
    "    for field in ip_fields:\n",
    "        if field == 'options':\n",
    "            # Obtenemos el numero de opciones del IP Header\n",
    "            field_values.append(len(packet[IP].fields[field]))\n",
    "        else:\n",
    "            field_values.append(packet[IP].fields[field])\n",
    "    \n",
    "    field_values.append(packet.time)\n",
    "    \n",
    "    layer_type = type(packet[IP].payload)\n",
    "    for field in tcp_fields:\n",
    "        try:\n",
    "            if field == 'options':\n",
    "                field_values.append(len(packet[layer_type].fields[field]))\n",
    "            else:\n",
    "                field_values.append(packet[layer_type].fields[field])\n",
    "        except:\n",
    "            field_values.append(None)\n",
    "    \n",
    "    # Agregamos el payload\n",
    "    field_values.append(len(packet[layer_type].payload))\n",
    "    field_values.append(packet[layer_type].payload.original)\n",
    "    field_values.append(binascii.hexlify(packet[layer_type].payload.original))\n",
    "    # Agregamos la fila al df\n",
    "    df_append = pd.DataFrame([field_values], columns=dataframe_fields)\n",
    "    df = pd.concat([df, df_append], axis=0)\n",
    "\n",
    "# Reset Index\n",
    "df = df.reset_index()\n",
    "# Drop old index column\n",
    "df = df.drop(columns=\"index\")\n",
    "\n",
    "print(df.head(5))"
   ]
  },
  {
   "attachments": {},
   "cell_type": "markdown",
   "metadata": {},
   "source": [
    "Mostrar columnas 'Src Addres', 'Dst Address', 'Src Port' y 'Dst Port'"
   ]
  },
  {
   "cell_type": "code",
   "execution_count": 44,
   "metadata": {},
   "outputs": [
    {
     "data": {
      "text/html": [
       "<div>\n",
       "<style scoped>\n",
       "    .dataframe tbody tr th:only-of-type {\n",
       "        vertical-align: middle;\n",
       "    }\n",
       "\n",
       "    .dataframe tbody tr th {\n",
       "        vertical-align: top;\n",
       "    }\n",
       "\n",
       "    .dataframe thead th {\n",
       "        text-align: right;\n",
       "    }\n",
       "</style>\n",
       "<table border=\"1\" class=\"dataframe\">\n",
       "  <thead>\n",
       "    <tr style=\"text-align: right;\">\n",
       "      <th></th>\n",
       "      <th>src</th>\n",
       "      <th>dst</th>\n",
       "      <th>sport</th>\n",
       "      <th>dport</th>\n",
       "    </tr>\n",
       "  </thead>\n",
       "  <tbody>\n",
       "    <tr>\n",
       "      <th>0</th>\n",
       "      <td>104.46.162.226</td>\n",
       "      <td>192.168.0.33</td>\n",
       "      <td>443</td>\n",
       "      <td>51021</td>\n",
       "    </tr>\n",
       "    <tr>\n",
       "      <th>1</th>\n",
       "      <td>104.46.162.226</td>\n",
       "      <td>192.168.0.33</td>\n",
       "      <td>443</td>\n",
       "      <td>51021</td>\n",
       "    </tr>\n",
       "    <tr>\n",
       "      <th>2</th>\n",
       "      <td>104.46.162.226</td>\n",
       "      <td>192.168.0.33</td>\n",
       "      <td>443</td>\n",
       "      <td>51021</td>\n",
       "    </tr>\n",
       "    <tr>\n",
       "      <th>3</th>\n",
       "      <td>104.46.162.226</td>\n",
       "      <td>192.168.0.33</td>\n",
       "      <td>443</td>\n",
       "      <td>51021</td>\n",
       "    </tr>\n",
       "    <tr>\n",
       "      <th>4</th>\n",
       "      <td>192.168.0.33</td>\n",
       "      <td>104.46.162.226</td>\n",
       "      <td>51021</td>\n",
       "      <td>443</td>\n",
       "    </tr>\n",
       "    <tr>\n",
       "      <th>5</th>\n",
       "      <td>104.46.162.226</td>\n",
       "      <td>192.168.0.33</td>\n",
       "      <td>443</td>\n",
       "      <td>51020</td>\n",
       "    </tr>\n",
       "    <tr>\n",
       "      <th>6</th>\n",
       "      <td>104.46.162.226</td>\n",
       "      <td>192.168.0.33</td>\n",
       "      <td>443</td>\n",
       "      <td>51020</td>\n",
       "    </tr>\n",
       "    <tr>\n",
       "      <th>7</th>\n",
       "      <td>192.168.0.33</td>\n",
       "      <td>104.46.162.226</td>\n",
       "      <td>51020</td>\n",
       "      <td>443</td>\n",
       "    </tr>\n",
       "    <tr>\n",
       "      <th>8</th>\n",
       "      <td>192.168.0.33</td>\n",
       "      <td>104.46.162.226</td>\n",
       "      <td>51021</td>\n",
       "      <td>443</td>\n",
       "    </tr>\n",
       "    <tr>\n",
       "      <th>9</th>\n",
       "      <td>104.46.162.226</td>\n",
       "      <td>192.168.0.33</td>\n",
       "      <td>443</td>\n",
       "      <td>51020</td>\n",
       "    </tr>\n",
       "  </tbody>\n",
       "</table>\n",
       "</div>"
      ],
      "text/plain": [
       "              src             dst  sport  dport\n",
       "0  104.46.162.226    192.168.0.33    443  51021\n",
       "1  104.46.162.226    192.168.0.33    443  51021\n",
       "2  104.46.162.226    192.168.0.33    443  51021\n",
       "3  104.46.162.226    192.168.0.33    443  51021\n",
       "4    192.168.0.33  104.46.162.226  51021    443\n",
       "5  104.46.162.226    192.168.0.33    443  51020\n",
       "6  104.46.162.226    192.168.0.33    443  51020\n",
       "7    192.168.0.33  104.46.162.226  51020    443\n",
       "8    192.168.0.33  104.46.162.226  51021    443\n",
       "9  104.46.162.226    192.168.0.33    443  51020"
      ]
     },
     "execution_count": 44,
     "metadata": {},
     "output_type": "execute_result"
    }
   ],
   "source": [
    "df[['src','dst','sport','dport']]"
   ]
  },
  {
   "attachments": {},
   "cell_type": "markdown",
   "metadata": {},
   "source": [
    "Estadísticas\n",
    "\n",
    "    IP origen más frecuente"
   ]
  },
  {
   "cell_type": "code",
   "execution_count": 45,
   "metadata": {},
   "outputs": [
    {
     "name": "stdout",
     "output_type": "stream",
     "text": [
      "104.46.162.226\n"
     ]
    }
   ],
   "source": [
    "frequent_address1 = df['src'].describe()['top']\n",
    "print(frequent_address1)"
   ]
  },
  {
   "attachments": {},
   "cell_type": "markdown",
   "metadata": {},
   "source": [
    "    IP destino más frecuente"
   ]
  },
  {
   "cell_type": "code",
   "execution_count": 46,
   "metadata": {},
   "outputs": [
    {
     "name": "stdout",
     "output_type": "stream",
     "text": [
      "192.168.0.33\n"
     ]
    }
   ],
   "source": [
    "frequent_address2 = df['dst'].describe()['top']\n",
    "print(frequent_address2)"
   ]
  },
  {
   "attachments": {},
   "cell_type": "markdown",
   "metadata": {},
   "source": [
    "    ¿A qué IPs se comunica la IP del inciso a?"
   ]
  },
  {
   "cell_type": "code",
   "execution_count": 47,
   "metadata": {},
   "outputs": [
    {
     "name": "stdout",
     "output_type": "stream",
     "text": [
      "['192.168.0.33'] \n",
      "\n",
      "\n"
     ]
    }
   ],
   "source": [
    "print(df[df['src'] == frequent_address1]['dst'].unique(),\"\\n\\n\")"
   ]
  },
  {
   "attachments": {},
   "cell_type": "markdown",
   "metadata": {},
   "source": [
    "    ¿A qué puertos destino se comunica la IP del inciso a?"
   ]
  },
  {
   "cell_type": "code",
   "execution_count": 48,
   "metadata": {},
   "outputs": [
    {
     "name": "stdout",
     "output_type": "stream",
     "text": [
      "[51021 51020] \n",
      "\n",
      "\n"
     ]
    }
   ],
   "source": [
    "print(df[df['src'] == frequent_address1]['dport'].unique(),\"\\n\\n\")"
   ]
  },
  {
   "attachments": {},
   "cell_type": "markdown",
   "metadata": {},
   "source": [
    "    ¿A qué puertos origen se comunica la IP del inciso b?"
   ]
  },
  {
   "cell_type": "code",
   "execution_count": 49,
   "metadata": {},
   "outputs": [
    {
     "name": "stdout",
     "output_type": "stream",
     "text": [
      "[443] \n",
      "\n",
      "\n"
     ]
    }
   ],
   "source": [
    "print(df[df['dst'] == frequent_address2]['sport'].unique(),\"\\n\\n\")"
   ]
  },
  {
   "attachments": {},
   "cell_type": "markdown",
   "metadata": {},
   "source": [
    "    El propósito de los puertos que más aparecen en los incisos d y e es porque el 443 es un puerto de red, establece conexión segura entre cliente y servidor y es porque al momento de capturar los paquetes, mi computadora estaba conectada a internet con varias pestañas de navegación. Ahora, respecto a los puertos 51020 y 51021 es porque son puertos que corresponden a aplicaciones específicas de mi sistema y que en ese momento las tenía en ejecución."
   ]
  },
  {
   "attachments": {},
   "cell_type": "markdown",
   "metadata": {},
   "source": [
    "Gráficas\n",
    "\n",
    "    IPs origen vs la suma de los payloads enviados de dichas direcciones"
   ]
  },
  {
   "cell_type": "code",
   "execution_count": 50,
   "metadata": {},
   "outputs": [
    {
     "data": {
      "text/html": [
       "<div>\n",
       "<style scoped>\n",
       "    .dataframe tbody tr th:only-of-type {\n",
       "        vertical-align: middle;\n",
       "    }\n",
       "\n",
       "    .dataframe tbody tr th {\n",
       "        vertical-align: top;\n",
       "    }\n",
       "\n",
       "    .dataframe thead th {\n",
       "        text-align: right;\n",
       "    }\n",
       "</style>\n",
       "<table border=\"1\" class=\"dataframe\">\n",
       "  <thead>\n",
       "    <tr style=\"text-align: right;\">\n",
       "      <th></th>\n",
       "      <th>src</th>\n",
       "      <th>dst</th>\n",
       "      <th>sport</th>\n",
       "      <th>dport</th>\n",
       "      <th>payload</th>\n",
       "    </tr>\n",
       "  </thead>\n",
       "  <tbody>\n",
       "    <tr>\n",
       "      <th>0</th>\n",
       "      <td>104.46.162.226</td>\n",
       "      <td>192.168.0.33</td>\n",
       "      <td>443</td>\n",
       "      <td>51021</td>\n",
       "      <td>1460</td>\n",
       "    </tr>\n",
       "    <tr>\n",
       "      <th>1</th>\n",
       "      <td>104.46.162.226</td>\n",
       "      <td>192.168.0.33</td>\n",
       "      <td>443</td>\n",
       "      <td>51021</td>\n",
       "      <td>1460</td>\n",
       "    </tr>\n",
       "    <tr>\n",
       "      <th>2</th>\n",
       "      <td>104.46.162.226</td>\n",
       "      <td>192.168.0.33</td>\n",
       "      <td>443</td>\n",
       "      <td>51021</td>\n",
       "      <td>1460</td>\n",
       "    </tr>\n",
       "    <tr>\n",
       "      <th>3</th>\n",
       "      <td>104.46.162.226</td>\n",
       "      <td>192.168.0.33</td>\n",
       "      <td>443</td>\n",
       "      <td>51021</td>\n",
       "      <td>126</td>\n",
       "    </tr>\n",
       "    <tr>\n",
       "      <th>4</th>\n",
       "      <td>192.168.0.33</td>\n",
       "      <td>104.46.162.226</td>\n",
       "      <td>51021</td>\n",
       "      <td>443</td>\n",
       "      <td>0</td>\n",
       "    </tr>\n",
       "    <tr>\n",
       "      <th>5</th>\n",
       "      <td>104.46.162.226</td>\n",
       "      <td>192.168.0.33</td>\n",
       "      <td>443</td>\n",
       "      <td>51020</td>\n",
       "      <td>1460</td>\n",
       "    </tr>\n",
       "    <tr>\n",
       "      <th>6</th>\n",
       "      <td>104.46.162.226</td>\n",
       "      <td>192.168.0.33</td>\n",
       "      <td>443</td>\n",
       "      <td>51020</td>\n",
       "      <td>1460</td>\n",
       "    </tr>\n",
       "    <tr>\n",
       "      <th>7</th>\n",
       "      <td>192.168.0.33</td>\n",
       "      <td>104.46.162.226</td>\n",
       "      <td>51020</td>\n",
       "      <td>443</td>\n",
       "      <td>0</td>\n",
       "    </tr>\n",
       "    <tr>\n",
       "      <th>8</th>\n",
       "      <td>192.168.0.33</td>\n",
       "      <td>104.46.162.226</td>\n",
       "      <td>51021</td>\n",
       "      <td>443</td>\n",
       "      <td>158</td>\n",
       "    </tr>\n",
       "    <tr>\n",
       "      <th>9</th>\n",
       "      <td>104.46.162.226</td>\n",
       "      <td>192.168.0.33</td>\n",
       "      <td>443</td>\n",
       "      <td>51020</td>\n",
       "      <td>1460</td>\n",
       "    </tr>\n",
       "  </tbody>\n",
       "</table>\n",
       "</div>"
      ],
      "text/plain": [
       "              src             dst  sport  dport payload\n",
       "0  104.46.162.226    192.168.0.33    443  51021    1460\n",
       "1  104.46.162.226    192.168.0.33    443  51021    1460\n",
       "2  104.46.162.226    192.168.0.33    443  51021    1460\n",
       "3  104.46.162.226    192.168.0.33    443  51021     126\n",
       "4    192.168.0.33  104.46.162.226  51021    443       0\n",
       "5  104.46.162.226    192.168.0.33    443  51020    1460\n",
       "6  104.46.162.226    192.168.0.33    443  51020    1460\n",
       "7    192.168.0.33  104.46.162.226  51020    443       0\n",
       "8    192.168.0.33  104.46.162.226  51021    443     158\n",
       "9  104.46.162.226    192.168.0.33    443  51020    1460"
      ]
     },
     "execution_count": 50,
     "metadata": {},
     "output_type": "execute_result"
    }
   ],
   "source": [
    "# Primero hacemos otro dataframe que incluya el payload\n",
    "df[['src','dst','sport','dport', 'payload']]"
   ]
  },
  {
   "cell_type": "code",
   "execution_count": 51,
   "metadata": {},
   "outputs": [
    {
     "data": {
      "image/png": "[encoded data removed]",
      "text/plain": [
       "<Figure size 640x480 with 1 Axes>"
      ]
     },
     "metadata": {},
     "output_type": "display_data"
    }
   ],
   "source": [
    "# Ahora ya podemos graficar\n",
    "import pandas as pd\n",
    "import matplotlib.pyplot as plt\n",
    "\n",
    "# Agrupar los paquetes por dirección IP de origen y sumar los payloads de cada grupo.\n",
    "payloads_por_ip = df.groupby('src')['payload'].sum()\n",
    "\n",
    "# Crear la gráfica de barras horizontales.\n",
    "plt.barh(payloads_por_ip.index, payloads_por_ip.values)\n",
    "\n",
    "# Añadir etiquetas al eje Y y al eje X.\n",
    "plt.ylabel('IPs origen')\n",
    "plt.xlabel('Suma de payloads enviados')\n",
    "\n",
    "# Mostrar la gráfica.\n",
    "plt.show()"
   ]
  },
  {
   "attachments": {},
   "cell_type": "markdown",
   "metadata": {},
   "source": [
    "    IPs destino vs la suma de los payloads recibidos en dichas direcciones"
   ]
  },
  {
   "cell_type": "code",
   "execution_count": 52,
   "metadata": {},
   "outputs": [
    {
     "data": {
      "image/png": "[encoded data removed]",
      "text/plain": [
       "<Figure size 640x480 with 1 Axes>"
      ]
     },
     "metadata": {},
     "output_type": "display_data"
    }
   ],
   "source": [
    "payloads_por_ip2 = df.groupby('dst')['payload'].sum()\n",
    "\n",
    "plt.barh(payloads_por_ip2.index, payloads_por_ip2.values)\n",
    "plt.ylabel('IPs destino')\n",
    "plt.xlabel('Suma de payloads recibidos')\n",
    "plt.show()"
   ]
  },
  {
   "attachments": {},
   "cell_type": "markdown",
   "metadata": {},
   "source": [
    "    Puertos origen vs la suma de los payloads enviados de dichos puertos"
   ]
  },
  {
   "cell_type": "code",
   "execution_count": 53,
   "metadata": {},
   "outputs": [
    {
     "data": {
      "image/png": "[encoded data removed]",
      "text/plain": [
       "<Figure size 640x480 with 1 Axes>"
      ]
     },
     "metadata": {},
     "output_type": "display_data"
    }
   ],
   "source": [
    "spuertos_unicos = df['sport'].unique()\n",
    "payloads_por_puerto = df.groupby('sport')['payload'].sum()\n",
    "\n",
    "plt.bar(payloads_por_puerto.index, payloads_por_puerto.values)\n",
    "plt.ylim(min(spuertos_unicos), max(spuertos_unicos))\n",
    "plt.ylabel('Puertos origen')\n",
    "plt.xlabel('Suma de payloads enviados')\n",
    "plt.show()"
   ]
  },
  {
   "attachments": {},
   "cell_type": "markdown",
   "metadata": {},
   "source": [
    "    Puertos destino vs la suma de los payloads recibidos en dichos puertos"
   ]
  },
  {
   "cell_type": "code",
   "execution_count": 54,
   "metadata": {},
   "outputs": [
    {
     "data": {
      "image/png": "[encoded data removed]",
      "text/plain": [
       "<Figure size 640x480 with 1 Axes>"
      ]
     },
     "metadata": {},
     "output_type": "display_data"
    }
   ],
   "source": [
    "dpuertos_unicos = df['dport'].unique()\n",
    "payloads_por_puerto2 = df.groupby('dport')['payload'].sum()\n",
    "\n",
    "plt.bar(payloads_por_puerto2.index, payloads_por_puerto2.values)\n",
    "plt.ylim(min(dpuertos_unicos), max(dpuertos_unicos))\n",
    "plt.ylabel('Puertos destino')\n",
    "plt.xlabel('Suma de payloads recibidos')\n",
    "plt.show()"
   ]
  },
  {
   "attachments": {},
   "cell_type": "markdown",
   "metadata": {},
   "source": [
    "Investigación del payload\n",
    "\n",
    "    Crear un nuevo DF que incluya únicamente las conexiones con la dirección IP origen más frecuente\n",
    "\n",
    "    Obtenga un nuevo DF con las columnas Src Address, Dst Address y agrúpelas por payload"
   ]
  },
  {
   "cell_type": "code",
   "execution_count": 55,
   "metadata": {},
   "outputs": [
    {
     "data": {
      "text/html": [
       "<div>\n",
       "<style scoped>\n",
       "    .dataframe tbody tr th:only-of-type {\n",
       "        vertical-align: middle;\n",
       "    }\n",
       "\n",
       "    .dataframe tbody tr th {\n",
       "        vertical-align: top;\n",
       "    }\n",
       "\n",
       "    .dataframe thead th {\n",
       "        text-align: right;\n",
       "    }\n",
       "</style>\n",
       "<table border=\"1\" class=\"dataframe\">\n",
       "  <thead>\n",
       "    <tr style=\"text-align: right;\">\n",
       "      <th></th>\n",
       "      <th>payload</th>\n",
       "      <th>src</th>\n",
       "      <th>dst</th>\n",
       "      <th>count</th>\n",
       "    </tr>\n",
       "  </thead>\n",
       "  <tbody>\n",
       "    <tr>\n",
       "      <th>0</th>\n",
       "      <td>126</td>\n",
       "      <td>104.46.162.226</td>\n",
       "      <td>192.168.0.33</td>\n",
       "      <td>1</td>\n",
       "    </tr>\n",
       "    <tr>\n",
       "      <th>1</th>\n",
       "      <td>1460</td>\n",
       "      <td>104.46.162.226</td>\n",
       "      <td>192.168.0.33</td>\n",
       "      <td>6</td>\n",
       "    </tr>\n",
       "  </tbody>\n",
       "</table>\n",
       "</div>"
      ],
      "text/plain": [
       "   payload             src           dst  count\n",
       "0      126  104.46.162.226  192.168.0.33      1\n",
       "1     1460  104.46.162.226  192.168.0.33      6"
      ]
     },
     "execution_count": 55,
     "metadata": {},
     "output_type": "execute_result"
    }
   ],
   "source": [
    "nuevo_df = df[df['src'] == frequent_address1]\n",
    "nuevo_df2 = nuevo_df[['src', 'dst', 'payload']]\n",
    "\n",
    "# Agrupar el dataframe por la columna 'load' y las columnas 'src' y 'dst' usando el método 'groupby()'.\n",
    "nuevo_df3 = nuevo_df2.groupby(['payload', 'src', 'dst']).size().reset_index(name='count')\n",
    "nuevo_df3"
   ]
  },
  {
   "attachments": {},
   "cell_type": "markdown",
   "metadata": {},
   "source": [
    "    Obtener la IP que más ha intercambiado bytes con la IP más frecuente. Esta IP es sospechosa por la cantidad de bytes intercambiados, entre todas las direcciones."
   ]
  },
  {
   "cell_type": "code",
   "execution_count": 56,
   "metadata": {},
   "outputs": [
    {
     "data": {
      "text/plain": [
       "'192.168.0.33'"
      ]
     },
     "execution_count": 56,
     "metadata": {},
     "output_type": "execute_result"
    }
   ],
   "source": [
    "df2 = nuevo_df3.groupby('dst', as_index=False)['payload'].sum()\n",
    "df3 = df2.sort_values('payload', ascending=False)\n",
    "ip_intercambio_maximo = df3.iloc[0]['dst']\n",
    "ip_intercambio_maximo"
   ]
  },
  {
   "attachments": {},
   "cell_type": "markdown",
   "metadata": {},
   "source": [
    "    Crear un nuevo DF con la conversación entre la IP más frecuente y la IP sospechosa"
   ]
  },
  {
   "cell_type": "code",
   "execution_count": 57,
   "metadata": {},
   "outputs": [
    {
     "name": "stdout",
     "output_type": "stream",
     "text": [
      "[b'\\x16\\x03\\x03\\x11\\x95\\x02\\x00\\x00Q\\x03\\x03d;L\\xa0\\x82\\x0b\\xcb\\xd7m:\\xef\\xd5\\x942\\xcf&\\x19\\xc8\\xcd<\\xba<\\x0ba\\xfbg\\xe4tr\\x95\\x0c\\x84 \\x04\\x1f\\x00\\x00\\x96\\x00\\xd41\\x9ff\\x8e\\xf6\\xc4/\\xdb\\xc2\\xe7\\xf5\\xc3\\x954W\\xf9%\\xb3\\x93&\\xf9+}\\x15q\\xc00\\x00\\x00\\t\\x00\\x17\\x00\\x00\\xff\\x01\\x00\\x01\\x00\\x0b\\x00\\x0f\\xcb\\x00\\x0f\\xc8\\x00\\t\\xcb0\\x82\\t\\xc70\\x82\\x07\\xaf\\xa0\\x03\\x02\\x01\\x02\\x02\\x133\\x00\\x99+\\xc4\\xee\\xcez\\xc3u\\xb2\\xc5V\\x00\\x00\\x00\\x99+\\xc40\\r\\x06\\t*\\x86H\\x86\\xf7\\r\\x01\\x01\\x0c\\x05\\x000Y1\\x0b0\\t\\x06\\x03U\\x04\\x06\\x13\\x02US1\\x1e0\\x1c\\x06\\x03U\\x04\\n\\x13\\x15Microsoft Corporation1*0(\\x06\\x03U\\x04\\x03\\x13!Microsoft Azure TLS Issuing CA 010\\x1e\\x17\\r230308062016Z\\x17\\r240302062016Z0r1\\x0b0\\t\\x06\\x03U\\x04\\x06\\x13\\x02US1\\x0b0\\t\\x06\\x03U\\x04\\x08\\x13\\x02WA1\\x100\\x0e\\x06\\x03U\\x04\\x07\\x13\\x07Redmond1\\x1e0\\x1c\\x06\\x03U\\x04\\n\\x13\\x15Microsoft Corporation1$0\"\\x06\\x03U\\x04\\x03\\x0c\\x1b*.events.data.microsoft.com0\\x82\\x01\"0\\r\\x06\\t*\\x86H\\x86\\xf7\\r\\x01\\x01\\x01\\x05\\x00\\x03\\x82\\x01\\x0f\\x000\\x82\\x01\\n\\x02\\x82\\x01\\x01\\x00\\xbf\\xc4\\x88l\\x13\\xfa\\xb1\\xda\\x13>\\xda\\xbf\\x85\\x86;\\xf0o\\xc2\\x8c\\xfc\\xaeO\\xa0\\xfd\\xf8\\x1a\\x89#\\x1cT\\xc8q\\x1e\\x93\\x1c5\\xfc\\x15DC\\xc8 \\r<uU\\xbb\\xa0>\\xefU\\xa3b\\xec\\xe4v\\x83hsG\\x82\\x8a\\x8050\\xfb\\xff4G\\x90y\\xc4H3\\n.G\\xb4~\\xcf\\x92\\xc3*\\xb2\"\\x01\\x0fu\\x962\\xb5\\x0fi\\xa0W\\x16\\x1e\\x9aQI\\x92\\\\\\xf1\\x1fK;\\xeb\\xa1\\xc87C\\xc9\\xe6[\\xe6\\x820\\x8e\\xf5q\\xab\\x8c\\xc3\\x9d\\xca\\xd1\\x16>\\x13B\\xe6\\xa8\\x03Q\\xdb\\x96\\x19k\\xcai{\\xc2\\xeb\\xf7\\xdaJv\\t\\xd3\\xfeLv\\xbea\\x1e>\\x1b\\x11\\x11\\xb5\\xf8LD\\xdcn\\xbd\\x14d\\x85\\x04\\xc0\\xd7\\x130\\xfd\\xe3\\x83;\\xd9E+A-\\xe0\\xa4\\xbe\\x82\\xc1\\x8a\\xe9Mf\\xbf\\x8fR\\x8d\\xaf\\xca\\xb4\\x93\\xdd@Wk_\\x0b\\xa0\\x9c\\xbd\\xbb\\x0c\\xee\\xe7\\x7f\\xb6s\\xec\\xc5\\x11\\x99\\xf1\\x9c+\\xc1Z\\xce\\x11\\xe3\\x04\\xef<\\xb1h\\x1dqK\\xc4e\\x07!b\\x0f\\xc5\\xa0\\xf0\\xe4\\xab\\x02V\\t\\x96Ht\\xf1\\x87\\xad\\x02\\x03\\x01\\x00\\x01\\xa3\\x82\\x05m0\\x82\\x05i0\\x82\\x01\\x7f\\x06\\n+\\x06\\x01\\x04\\x01\\xd6y\\x02\\x04\\x02\\x04\\x82\\x01o\\x04\\x82\\x01k\\x01i\\x00w\\x00U\\x81\\xd4\\xc2\\x16\\x906\\x01J\\xea\\x0b\\x9bW<S\\xf0\\xc0\\xe48xp%\\x08\\x17/\\xa3\\xaa\\x1d\\x07\\x13\\xd3\\x0c\\x00\\x00\\x01\\x86\\xbf\\xe9\\xe2g\\x00\\x00\\x04\\x03\\x00H0F\\x02!\\x00\\xbe\\xad\\x92\\xb4\\'\\xb7m\\x93M\\xc5\\n\\xc7\\'\\xaaW\\xa4{\\xb7\\xd7\\xac@c\\xc7p\\xd4\\xbdBW\\xd3\\xfd\\xfeI\\x02!\\x00\\x9e\\x81-\\xc4\\xb5r\\xe90\\x9bx\\xfd\\xe0{\\x90\\xc3\\xd8\\x15\\x1c\\nm\\x18H\\x83\\xce\\x08\\x9bH\\xd9I\\xa7e\\xde\\x00v\\x00s\\xd9\\x9e\\x89\\x1bL\\x96x\\xa0 }G\\x9d\\xe6\\xb2\\xc6\\x1c\\xd0Q^q\\x19*\\x8ck\\x80\\x10z\\xc1wr\\xb5\\x00\\x00\\x01\\x86\\xbf\\xe9\\xe2r\\x00\\x00\\x04\\x03\\x00G0E\\x02 *S\\x8a\\x82n\\xa9f\\x1d\\xa4\\x13\\x03\\xfa\\x92\\xb3\\xeet\\xaeX[\\xc6\\x98\\xc6\\\\V\\x9d[?\\xe1\\x10=6S\\x02!\\x00\\xc3\\xdf\\xda\\ny\\xefh)\\xf3\\xfc)R\\x923Py\\xf3a]\\x95\\xdd\\xcew\\xbf*^\\x92W\\x1e$`Z\\x00v\\x00\\xda\\xb6\\xbfk?\\xb5\\xb6\"\\x9f\\x9b\\xc2\\xbb\\\\k\\xe8p\\x91ql\\xbbQ\\x84\\x854\\xbd\\xa4=0H\\xd7\\xfb\\xab\\x00\\x00\\x01\\x86\\xbf\\xe9\\xe2\\x16\\x00\\x00\\x04\\x03\\x00G0E\\x02!\\x00\\x8bx\\xcb\\xd6\\xa0\\xa1\\x10\\xf2\\xc8\\x03k\\x89\\xa0\\x87\\xa7\\x04\\xdf\\xe4\\xd54N\\xbaJ\\xdf8\\x100\\xdb\\xb2\\xedM?\\x02 \\x02&\\xa2\\x85\\xd2\\xee\\xd1\\xaf\\x0b\\xf1\\x94\\xec\\xe4\\x11\\xab\\xc8U\\xa5b\\x01\\xa5\\x88\\xeb{\\xd0\\x13\\x83\\xf1\\xb0r\\xa9\\x080\\'\\x06\\t+\\x06\\x01\\x04\\x01\\x827\\x15\\n\\x04\\x1a0\\x180\\n\\x06\\x08+\\x06\\x01\\x05\\x05\\x07\\x03\\x020\\n\\x06\\x08+\\x06\\x01\\x05\\x05\\x07\\x03\\x010<\\x06\\t+\\x06\\x01\\x04\\x01\\x827\\x15\\x07\\x04/0-\\x06%+\\x06\\x01\\x04\\x01\\x827\\x15\\x08\\x87\\xbd\\xd7\\x1b\\x81\\xe7\\xebF\\x82\\x81\\x9d.\\x8e\\xd0\\x0c\\x87\\xf0\\xda\\x1d]\\x82\\x84\\xe5i\\x82\\xf3\\xa7>\\x02\\x01d\\x02\\x01%0\\x81\\xae\\x06\\x08+\\x06\\x01\\x05\\x05\\x07\\x01\\x01\\x04\\x81\\xa10\\x81\\x9e0m\\x06\\x08+\\x06\\x01\\x05\\x05\\x070\\x02\\x86ahttp://www.microsoft.com/pkiops/certs/Microsoft%20Azure%20TLS%20Issuing%20CA%2001%20-%20xsign.crt0-\\x06\\x08+\\x06\\x01\\x05\\x05\\x070\\x01\\x86!http://oneocsp.microsoft.com/ocsp0\\x1d\\x06\\x03U\\x1d\\x0e\\x04\\x16\\x04\\x14:\\xc6)1\\x83\\xd3\\xf5\\xa0o\\x11\\x08\\x83[/\\xf2\\xaa\\x03]\\xe1\\xc00\\x0e\\x06\\x03U\\x1d\\x0f\\x01\\x01\\xff\\x04\\x04\\x03\\x02\\x04\\xb00\\x82\\x01\\x7f\\x06\\x03U\\x1d\\x11\\x04\\x82\\x01v0\\x82\\x01r\\x82\\x1b*.events.data.microsoft.com\\x82\\x19events.d'\n",
      " b'ata.microsoft.com\\x82\\x19*.pipe.aria.microsoft.com\\x82\\x0epipe.skype.com\\x82\\x10*.pipe.skype.com\\x82\"*.mobile.events.data.microsoft.com\\x82 mobile.events.data.microsoft.com\\x82\\x15*.events.data.msn.com\\x82\\x13events.data.msn.com\\x82\\x14*.events.data.msn.cn\\x82\\x12events.data.msn.cn\\x82\\x11oca.microsoft.com\\x82\\x14watson.microsoft.com\\x82\\x1b*.vortex.data.microsoft.com\\x82\\x19vortex.data.microsoft.com0\\x0c\\x06\\x03U\\x1d\\x13\\x01\\x01\\xff\\x04\\x020\\x000d\\x06\\x03U\\x1d\\x1f\\x04]0[0Y\\xa0W\\xa0U\\x86Shttp://www.microsoft.com/pkiops/crl/Microsoft%20Azure%20TLS%20Issuing%20CA%2001.crl0f\\x06\\x03U\\x1d \\x04_0]0Q\\x06\\x0c+\\x06\\x01\\x04\\x01\\x827L\\x83}\\x01\\x010A0?\\x06\\x08+\\x06\\x01\\x05\\x05\\x07\\x02\\x01\\x163http://www.microsoft.com/pkiops/Docs/Repository.htm0\\x08\\x06\\x06g\\x81\\x0c\\x01\\x02\\x020\\x1f\\x06\\x03U\\x1d#\\x04\\x180\\x16\\x80\\x14\\x0f ]\\xd7\\xa1W\\x95\\xdb\\x92\\xcf+\\xd0\\xc7\\xc2w\\x04\\xcer\\x80v0\\x1d\\x06\\x03U\\x1d%\\x04\\x160\\x14\\x06\\x08+\\x06\\x01\\x05\\x05\\x07\\x03\\x02\\x06\\x08+\\x06\\x01\\x05\\x05\\x07\\x03\\x010\\r\\x06\\t*\\x86H\\x86\\xf7\\r\\x01\\x01\\x0c\\x05\\x00\\x03\\x82\\x02\\x01\\x00u\\x9e\\x10\\xc9\\x08\\x01\\x81\\xaf\\x8a\\x82\\x95\\x0cU@\\xf6\\x86E\\xc4L\\xe3\\xe0k\\xac\\t\\x8bA\\x9b\\r\\xd52\\xaa\\xdbp\\xfc\\x1e\\xaf}<h\\xd0Z\\xe6Kd\\x1dL,\\x94\\xb1o\\xfe\\x99/r#\\xef{\\x98\\xdd\\xa6\\xf0i\\xc9\\x90[\\xf3$\\xa5I\\xf0+Qt\\x8b\\x96\\x98\\xf4LPY\\xf1~6\\x83Md\\xa7\\x95\\x8bB\\xbf\\x89\\xa9\\n\\xb152\\x8c)\\xef\\xf8D\\xe0\\xeaYW\\\\L\\xd1\\x19_D\\xb5\\xf7r\\xb5\\xff\\tW;\\x118\\x98=\\xeb\\x03\\xe3:`AsL\\xa3\\x97\\x8e\\'\\t\\xc8tD5Y\\x0c\\xef\\xbd<\\xf0\\xbby\\xaeA\\n\\xd2\\xc0\\x97\\xe2\\x8d\\xf5\\xe6/G{L\\x92\\x9b\\xe1\\x15\\x8bG5\\xa4\\x07>D1\\x90u!\\xa1\\xac\\xb3=-\\x12B1\\x83\\x13\"\\x8a\\x9d\\xaa,kg\\xfdQ\\xcf\\xbf\\x14L\\x92\\x91I\\xa4\\xd3\\xfe\\xe3m&\\xd7d?\\x1d\\xc6U\\xef\\xf6\\xa29\\xe0\\x86\\xa0w\\xc3\\x05\\x19\\xf00\\x91|+\\x0b\\xbdQ\\xda\\xd4\\xbc\\xdd?r\\xbd>2h\\x83\\xa0q\\xe8\\x0bX\\x8dI\\x0f2M\\xc5\\x89\\x1e\\x99\\xc4!\\x06\\xf3\\xb5\\xe0\\xe3\\x1c\\xd3\\xcfpL\\xddT\\xe14\\xd0\\xa6t\\x0c}\\x97\\xf2\\xb6\\xd7\\x8a\\x05\\x85J\\xac\\xd9\\x1a\\x8c\\x8fJZ\\xd9\\x16\\x86I\\nT\\x05[\\x93\\x97\\x96j\\xfa\\xd8\\x9a|5\\x8e\\x9c\\xb4d\\tw(\\xea\\xbb\\xf5x\\x95\\x8b\\x98\\xde\\xa3\\xa5k\\x99IV#\\x83G\\xed79q\\x18C\\xd9\\x87\\x97\\x16\\xc4@M\\x05\\x879\\x9ez\\x90i*eo\\xb7\\r\\x11\\x95\\tc\\x04\\x12l\\xb3\\xe1\\x02bIur\\xca|\\x04r\\x80\\x902\\xaa1\\x16\\xac\\xb0\\xa1\\x1a_\\xecEV\"\\x8e\\x13V\\x97W\\x05t7\\x1as\\xc12B\\x0c\\xc7\\xa1\\xfc9\\xdf0\\xbc~G`\\x80\\xbcV\\x1e\\x92\\x17V\\xa7\\xdeM\\x08\\xd1\\nK=\\x1c\\xd4\\x9aa\\xe0q\\xbc\\xb0\\x80\\xe8\\xf6\\xee\\x9bF\\x13\\xfc\\x19v\\xeeX\\xc3\\x13b\\x99\\xbe\\xc1\\xb7\\'\\xb5\\xca\\xca\\x9ck\\xce\\xc5\\xa7 \\xe8/!]\\x97\\xdbv)I\\x99\\x19\\xe9\\xc8\\x8ej\\xa5\\x08\\x94\\x9c\\x9d\\xd4\\xd3F\\x1f\\xdc\\x00\\xb6\\x90\\x1b\\xbbf\\xa6\\xbc\\x00\\xe9\\xd0\\xae\\xd2\\xae\\xf5\\xf7\\x00\\x05\\xf70\\x82\\x05\\xf30\\x82\\x04\\xdb\\xa0\\x03\\x02\\x01\\x02\\x02\\x10\\n\\xaf\\xa6\\xc5\\xcac\\xc4QA\\xea;\\xe1\\xf7\\xc7S\\x170\\r\\x06\\t*\\x86H\\x86\\xf7\\r\\x01\\x01\\x0c\\x05\\x000a1\\x0b0\\t\\x06\\x03U\\x04\\x06\\x13\\x02US1\\x150\\x13\\x06\\x03U\\x04\\n\\x13\\x0cDigiCert Inc1\\x190\\x17\\x06\\x03U\\x04\\x0b\\x13\\x10www.digicert.com1 0\\x1e\\x06\\x03U\\x04\\x03\\x13\\x17DigiCert Global Root G20\\x1e\\x17\\r200729123000Z\\x17\\r240627235959Z0Y1\\x0b0\\t\\x06\\x03U\\x04\\x06\\x13\\x02US1\\x1e0\\x1c\\x06\\x03U\\x04\\n\\x13\\x15Microsoft Corporation1*0(\\x06\\x03U\\x04\\x03\\x13!Microsoft Azure TLS Issuing CA 010\\x82\\x02\"0\\r\\x06\\t*\\x86H\\x86\\xf7\\r\\x01\\x01\\x01\\x05\\x00\\x03\\x82\\x02\\x0f\\x000\\x82\\x02\\n\\x02\\x82\\x02\\x01\\x00\\xc7\\x9dp:\\xe4^\\xe7\\xcf\\xee'\n",
      " b'\\x9cU\\x9bQG,3@\\xf4\\x88\\xf0\\x1d\\xa3(i\\x8f\\x1a\\xae\\xaa\\x99\\xe0g\\xdf\\xe3\\x1c\\xabG(\\'j\\xf5\\xcb\\xee\\rv0\\xf01\\xf1\\x0e\\x83w\\xd8_\\x07:\\xdf[\\x19\\x05\\xd0\\x1a\\xf6\\xc0\\x8b\\xe5\\xbeL\\xd6\\xd3Y\\xda5T\\xa4\\x1e\\x9f\\x8eKxK\\xddn\\xa7\\x97\\xf8\\xd8\\xbd\\x99\\xd5x\\x95\\xe3\\xb6\\xc2\\x98qr\\x1f\\xff\\xa5\\xad\\xb2\\x97\\x05\\xe5\\xac%C\\xd2\\xd9%\\xc8\\xf0h~\\xca\\xa1\\x9b\\x8a\\xf91\\xe9\\\\#-\\xcc?\\x175Wf\\x19o\\xc9#@\\xbf\\xedO\\xc4\\xed\\xeb\\xd7\\x9f\\xd5\\xc3\\x8a\\x8f\\x12bA\\x923\\xad\\xda,\\xeeA\\xb4\\xb0\\xaf\\xd3\\xdd\\xbe\\xd5\\xde\\x06\\x18\\x14\\x90b\\x89Q\\xab\\xee\\xcfwY\\x11\\x12E\\x81>m2\\xc1\\x9d\\x95o\\xc1\\x88K\\x90\\xcb\\xae7\\xa5\\x12@g(,\\xb2\\xdc\\x1d2B\\xe7}v\\x95l\\x89G\\x84\\xec^lc\\xc3\\x1e\\xf7\\xa5\\x95\\xc5\\x07\\x1b;&\\x1d\\x11\\x8f\\xe3\\xff\\xd5)\\x0eS\\x86\\xfa\\xf0>b\\x03\\xaf\\x06\\x19\\n\\x128\\xaa\\xca\\x05i?\\xc1\\x19\\xa0\\xc3\"\\x8d\\xeaa\\xce\\x0e7o\\x94\"\\xf6\\xbeT\\xae\\xf6(\\xa3_hG\\xff)\\x7f\\x81\\xc943\\xc5\\xd3\\xf1I\\xc0UL[\\xc3\\xe6\\x08\\x12\\xc6\\xb2\\xd8\\xa7\\xdc\\xd15\\xf8\\xd7\\x96NA\\xad\\xd1<\\xe9\\x1e8\\n\\xc9\\xf6\\x83?kN\\xe1\\xb0\\xa4\\xd4n\\xe9?i\\x03\\x15>\\xd2a\\xf7<\\xc5\\xb8\\x02\\x90T6P!\\x17\\xb1\\xa1\\xff\\x7f\\x96&\\xa4\\xb9\\xf8`\\xf8\\x8d\\x14\\'\\x9e\"\\'Z\\xef\\x19\\xdfN\\xf78\\xec\\x8crU\\xc7\\x07\\x1e\\xadE\\xccl\\xa0:\\xa7\\xa6\\xaf\\x11\\x04L\\xa8|\\x86\\xf0\\xd1\\xe9\\xe0]\\xac\\x1c&\\x08u`f\\xb9\\xc0\\xaay\\xfd\\xdc\\x9bF\\xc8\\xf2\\xe2\\xeb\\xe7#XeF\\xb4\\xc6G\\xc35o_Q\\xefHQ\\xbb\\xef[,\\x91\\xc1#\\'\\x18\\x905\\x00\\xd0Ea\\xc4\\x87sq\\xbc\\xd6\\xfb\\x90Y@^u]FI/\\x86:Q\\x19\\xc8E\\x8503\\xaal%\\xb5\\xd5\\xa1X12\\x08\\xc2\\x82\\xdb\\x1f\\xe6I\\x9b\\xd9\\xb6VFc\\xe87\\xed\\x8e\\xf6\\xa8|\\xe2w\\x0br[\\xba\\xc1z\\xd6I\\x02\\x03\\x01\\x00\\x01\\xa3\\x82\\x01\\xad0\\x82\\x01\\xa90\\x1d\\x06\\x03U\\x1d\\x0e\\x04\\x16\\x04\\x14\\x0f ]\\xd7\\xa1W\\x95\\xdb\\x92\\xcf+\\xd0\\xc7\\xc2w\\x04\\xcer\\x80v0\\x1f\\x06\\x03U\\x1d#\\x04\\x180\\x16\\x80\\x14N\"T \\x18\\x95\\xe6\\xe3n\\xe6\\x0f\\xfa\\xfa\\xb9\\x12\\xed\\x06\\x17\\x8f90\\x0e\\x06\\x03U\\x1d\\x0f\\x01\\x01\\xff\\x04\\x04\\x03\\x02\\x01\\x860\\x1d\\x06\\x03U\\x1d%\\x04\\x160\\x14\\x06\\x08+\\x06\\x01\\x05\\x05\\x07\\x03\\x01\\x06\\x08+\\x06\\x01\\x05\\x05\\x07\\x03\\x020\\x12\\x06\\x03U\\x1d\\x13\\x01\\x01\\xff\\x04\\x080\\x06\\x01\\x01\\xff\\x02\\x01\\x000v\\x06\\x08+\\x06\\x01\\x05\\x05\\x07\\x01\\x01\\x04j0h0$\\x06\\x08+\\x06\\x01\\x05\\x05\\x070\\x01\\x86\\x18http://ocsp.digicert.com0@\\x06\\x08+\\x06\\x01\\x05\\x05\\x070\\x02\\x864http://cacerts.digicert.com/DigiCertGlobalRootG2.crt0{\\x06\\x03U\\x1d\\x1f\\x04t0r07\\xa05\\xa03\\x861http://crl3.digicert.com/DigiCertGlobalRootG2.crl07\\xa05\\xa03\\x861http://crl4.digicert.com/DigiCertGlobalRootG2.crl0\\x1d\\x06\\x03U\\x1d \\x04\\x160\\x140\\x08\\x06\\x06g\\x81\\x0c\\x01\\x02\\x010\\x08\\x06\\x06g\\x81\\x0c\\x01\\x02\\x020\\x10\\x06\\t+\\x06\\x01\\x04\\x01\\x827\\x15\\x01\\x04\\x03\\x02\\x01\\x000\\r\\x06\\t*\\x86H\\x86\\xf7\\r\\x01\\x01\\x0c\\x05\\x00\\x03\\x82\\x01\\x01\\x00%\\x16\\xf3a\\xed\\x08\\x17T\\xb0\\x19J\\xc3Q\\xd9tf\"\\x7fbK\\xc3\\x87\\x14 @[\\x12\\x89\\xa2/\\x18a\\x06\\x9f\\xa4\\xc4\\xe42\\xa7\\xae\\xce\\x82\\xf7\\x1df\\xf5\\xa5\\x81\"\\xa6\\xc0\\xe4\\x86#\\'\\xae\\x97\\xdea\\x91\\x00\\xec\\xbc\\xfb\\xca\\xa1\\x04\\xb5\\xf8\\x07p@l+\\xd2\\x9cJ\\xd4\\x06\\x19\\x94_\\x99e4\\xee\\x13\\xd7\\x1eqs\\xfb\\x98\\x13^\\xac\\xc2\\x13c\\xc12T`UF\\t\\x88\\r\\xb9\\x98\\x93\\xd7|\\x1d4\\x80;\\xc6\\x86\\xd6\\x1a\\xfaa\\r\\xc0\\xcfA\\xabP}a\\x82\\xf2.4mS?\\x1c\\xc8k\\x1d\\xc92\\x06\\xfd\\xb0L\\xfd\\x0fcq_\\t\\x1a\\xa3\\x14\\xfdH\\xc0v\\x1di\\x17$\\xe7\\x9cq%c\\x9fM\\xa6.\\xc5\\xf3\\xb6ja\\x82D\\x1c\\x936,`\\xfe\\x95\\xef\\x15\\xb0x\\xe0ye\\xf6\\x08\\x94$\\xa3\\xb9%^\\xf7\"\\xce\\xe6oP@\\xd3\\x8cv\\x90r\\xcd\\x89\\xfaC\\xe0\\x7f#\\x089\\x8dC0\\x9d\\xb57\\x13\\x89\\xdb\\x13\\xd1\\x0b\\xfc\\x00\\x87\\xf8sH\\x14U\\xb6\\x80\\'\\xca\\xecm\\x91\\x9e\\x15\\x8c\\x83\\xa1\\x0c\\x00\\x01i\\x03\\x00\\x18a\\x04\\xb0m\\xf9\\x9eI\\xa7\\xf4\\xb7\\xbe\\x8c\\x85\\xf4\\xc1\\xf59\\t\\xd4t\\xb4\\x1f\\xbbOj\\x11\\xa9d\\x96\\xeb\\'x\\x86\\x12\\xd6\\xa4,:\\x88\\xfdM[\\xf2\\xc8\\xbd\\xf9\\x87\\xe7\\n\\x8ecw#s\\x9d\\x7f\\xe8\\x00\\xad\\xaa\\xf3\\xfd\\xda\\xd6yIQJ\\x98$\"\\xb7;(x\\xda\\x98K\\xe2\\x05~\\x96\\x1f\\xd5p\\x14_\\xa92\\x85\\x836|\\xf8\\xd0Io6\\x04\\x01\\x01\\x005\\x1e\\x137\\x879\\xf1\\x18\\xc3j\\x9a\\x8a\\xb1\\xb06~\\x15r\\xe6\\'pb\\xeb\\xe6@\\xdc\\x13\\xaa\\x16]\\x9e\\x1e\\xbbD%|CXXIgM\\x0bc\\x0c\\x84\\xf5\\xdf_\\xda\\xfcW[P\\xc2\\x02\\xf9GGZU\\x86x|\\xe9\\x9bi\\xfd\\xa7\\xe3\\xcf\\x0e\\xefLNb\\x7f\\xc3\\xf4\\x90\\x8bb\\xce>\\xe8\\xd9\\xccM\\x00\\xc8,\\x00>%P\\xce\\xea\\x0c\\x162\\xbe\\xbd\\xb7\\xee\\xa1e\\xf5\\xcf\\xdb\\x9a`\\x1a\\xb1Wni\\x15\\x1e\\xddm\\xa5\\x1f\\xa0\\xdd\\x80\\xc09<{V\\xd7T\\xab\\xaf'\n",
      " b\"hl^, \\xc6\\x96\\xf2\\t\\xd5\\xcd\\xff\\x89\\xf2\\x01cD\\xeb\\xec9\\xc9d\\xa3Ex\\x14\\xc7\\x1e\\x82Pl\\x1a\\xdb\\xd1\\x16x97wW\\x03\\x00\\x05D\\xb5j\\xfd\\x05':\\riaZ\\xf58?\\xd9\\xb1\\xc4\\xdc%\\xa8\\xab\\xd10\\xadr\\xf9\\xd8\\xe2\\x85:#\\x8bqE\\xf4\\x96k\\x80|\\xf0\\x0f\\xca\\xae\\xa8>\\xff_\\xd1\\x10$\\n%\\xa6\\x90'&\\x9e\\xa6\\xf7\\x1f\\xf73\\xda\\xad\\x98\\xf3\\xbdu\\x92\\xe6%:\\xe4(n\\x81\\xc5DS\\x0e\\x00\\x00\\x00\"\n",
      " b''\n",
      " b'\\x16\\x03\\x03\\x11\\x95\\x02\\x00\\x00Q\\x03\\x03d;L\\xa0\\xe3\\xca\"\\xe4[?<\\x87\\x1c-\\xf6\\x92\\x16NC3al\\x9a\\xfan\\x1ew\\xe2O\\xf1\\x0b\\x84 \\xf7%\\x00\\x00W\\xafR)\\xfa\\x00h\\xaff\\xa2\\xb25\\xe3\\x9cF\\x12\\x02x\\\\\\xbbL\\xeb\\xb2Y\\xb0\\x14\"\\xe8\\xc00\\x00\\x00\\t\\x00\\x17\\x00\\x00\\xff\\x01\\x00\\x01\\x00\\x0b\\x00\\x0f\\xcb\\x00\\x0f\\xc8\\x00\\t\\xcb0\\x82\\t\\xc70\\x82\\x07\\xaf\\xa0\\x03\\x02\\x01\\x02\\x02\\x133\\x00\\x99+\\xc4\\xee\\xcez\\xc3u\\xb2\\xc5V\\x00\\x00\\x00\\x99+\\xc40\\r\\x06\\t*\\x86H\\x86\\xf7\\r\\x01\\x01\\x0c\\x05\\x000Y1\\x0b0\\t\\x06\\x03U\\x04\\x06\\x13\\x02US1\\x1e0\\x1c\\x06\\x03U\\x04\\n\\x13\\x15Microsoft Corporation1*0(\\x06\\x03U\\x04\\x03\\x13!Microsoft Azure TLS Issuing CA 010\\x1e\\x17\\r230308062016Z\\x17\\r240302062016Z0r1\\x0b0\\t\\x06\\x03U\\x04\\x06\\x13\\x02US1\\x0b0\\t\\x06\\x03U\\x04\\x08\\x13\\x02WA1\\x100\\x0e\\x06\\x03U\\x04\\x07\\x13\\x07Redmond1\\x1e0\\x1c\\x06\\x03U\\x04\\n\\x13\\x15Microsoft Corporation1$0\"\\x06\\x03U\\x04\\x03\\x0c\\x1b*.events.data.microsoft.com0\\x82\\x01\"0\\r\\x06\\t*\\x86H\\x86\\xf7\\r\\x01\\x01\\x01\\x05\\x00\\x03\\x82\\x01\\x0f\\x000\\x82\\x01\\n\\x02\\x82\\x01\\x01\\x00\\xbf\\xc4\\x88l\\x13\\xfa\\xb1\\xda\\x13>\\xda\\xbf\\x85\\x86;\\xf0o\\xc2\\x8c\\xfc\\xaeO\\xa0\\xfd\\xf8\\x1a\\x89#\\x1cT\\xc8q\\x1e\\x93\\x1c5\\xfc\\x15DC\\xc8 \\r<uU\\xbb\\xa0>\\xefU\\xa3b\\xec\\xe4v\\x83hsG\\x82\\x8a\\x8050\\xfb\\xff4G\\x90y\\xc4H3\\n.G\\xb4~\\xcf\\x92\\xc3*\\xb2\"\\x01\\x0fu\\x962\\xb5\\x0fi\\xa0W\\x16\\x1e\\x9aQI\\x92\\\\\\xf1\\x1fK;\\xeb\\xa1\\xc87C\\xc9\\xe6[\\xe6\\x820\\x8e\\xf5q\\xab\\x8c\\xc3\\x9d\\xca\\xd1\\x16>\\x13B\\xe6\\xa8\\x03Q\\xdb\\x96\\x19k\\xcai{\\xc2\\xeb\\xf7\\xdaJv\\t\\xd3\\xfeLv\\xbea\\x1e>\\x1b\\x11\\x11\\xb5\\xf8LD\\xdcn\\xbd\\x14d\\x85\\x04\\xc0\\xd7\\x130\\xfd\\xe3\\x83;\\xd9E+A-\\xe0\\xa4\\xbe\\x82\\xc1\\x8a\\xe9Mf\\xbf\\x8fR\\x8d\\xaf\\xca\\xb4\\x93\\xdd@Wk_\\x0b\\xa0\\x9c\\xbd\\xbb\\x0c\\xee\\xe7\\x7f\\xb6s\\xec\\xc5\\x11\\x99\\xf1\\x9c+\\xc1Z\\xce\\x11\\xe3\\x04\\xef<\\xb1h\\x1dqK\\xc4e\\x07!b\\x0f\\xc5\\xa0\\xf0\\xe4\\xab\\x02V\\t\\x96Ht\\xf1\\x87\\xad\\x02\\x03\\x01\\x00\\x01\\xa3\\x82\\x05m0\\x82\\x05i0\\x82\\x01\\x7f\\x06\\n+\\x06\\x01\\x04\\x01\\xd6y\\x02\\x04\\x02\\x04\\x82\\x01o\\x04\\x82\\x01k\\x01i\\x00w\\x00U\\x81\\xd4\\xc2\\x16\\x906\\x01J\\xea\\x0b\\x9bW<S\\xf0\\xc0\\xe48xp%\\x08\\x17/\\xa3\\xaa\\x1d\\x07\\x13\\xd3\\x0c\\x00\\x00\\x01\\x86\\xbf\\xe9\\xe2g\\x00\\x00\\x04\\x03\\x00H0F\\x02!\\x00\\xbe\\xad\\x92\\xb4\\'\\xb7m\\x93M\\xc5\\n\\xc7\\'\\xaaW\\xa4{\\xb7\\xd7\\xac@c\\xc7p\\xd4\\xbdBW\\xd3\\xfd\\xfeI\\x02!\\x00\\x9e\\x81-\\xc4\\xb5r\\xe90\\x9bx\\xfd\\xe0{\\x90\\xc3\\xd8\\x15\\x1c\\nm\\x18H\\x83\\xce\\x08\\x9bH\\xd9I\\xa7e\\xde\\x00v\\x00s\\xd9\\x9e\\x89\\x1bL\\x96x\\xa0 }G\\x9d\\xe6\\xb2\\xc6\\x1c\\xd0Q^q\\x19*\\x8ck\\x80\\x10z\\xc1wr\\xb5\\x00\\x00\\x01\\x86\\xbf\\xe9\\xe2r\\x00\\x00\\x04\\x03\\x00G0E\\x02 *S\\x8a\\x82n\\xa9f\\x1d\\xa4\\x13\\x03\\xfa\\x92\\xb3\\xeet\\xaeX[\\xc6\\x98\\xc6\\\\V\\x9d[?\\xe1\\x10=6S\\x02!\\x00\\xc3\\xdf\\xda\\ny\\xefh)\\xf3\\xfc)R\\x923Py\\xf3a]\\x95\\xdd\\xcew\\xbf*^\\x92W\\x1e$`Z\\x00v\\x00\\xda\\xb6\\xbfk?\\xb5\\xb6\"\\x9f\\x9b\\xc2\\xbb\\\\k\\xe8p\\x91ql\\xbbQ\\x84\\x854\\xbd\\xa4=0H\\xd7\\xfb\\xab\\x00\\x00\\x01\\x86\\xbf\\xe9\\xe2\\x16\\x00\\x00\\x04\\x03\\x00G0E\\x02!\\x00\\x8bx\\xcb\\xd6\\xa0\\xa1\\x10\\xf2\\xc8\\x03k\\x89\\xa0\\x87\\xa7\\x04\\xdf\\xe4\\xd54N\\xbaJ\\xdf8\\x100\\xdb\\xb2\\xedM?\\x02 \\x02&\\xa2\\x85\\xd2\\xee\\xd1\\xaf\\x0b\\xf1\\x94\\xec\\xe4\\x11\\xab\\xc8U\\xa5b\\x01\\xa5\\x88\\xeb{\\xd0\\x13\\x83\\xf1\\xb0r\\xa9\\x080\\'\\x06\\t+\\x06\\x01\\x04\\x01\\x827\\x15\\n\\x04\\x1a0\\x180\\n\\x06\\x08+\\x06\\x01\\x05\\x05\\x07\\x03\\x020\\n\\x06\\x08+\\x06\\x01\\x05\\x05\\x07\\x03\\x010<\\x06\\t+\\x06\\x01\\x04\\x01\\x827\\x15\\x07\\x04/0-\\x06%+\\x06\\x01\\x04\\x01\\x827\\x15\\x08\\x87\\xbd\\xd7\\x1b\\x81\\xe7\\xebF\\x82\\x81\\x9d.\\x8e\\xd0\\x0c\\x87\\xf0\\xda\\x1d]\\x82\\x84\\xe5i\\x82\\xf3\\xa7>\\x02\\x01d\\x02\\x01%0\\x81\\xae\\x06\\x08+\\x06\\x01\\x05\\x05\\x07\\x01\\x01\\x04\\x81\\xa10\\x81\\x9e0m\\x06\\x08+\\x06\\x01\\x05\\x05\\x070\\x02\\x86ahttp://www.microsoft.com/pkiops/certs/Microsoft%20Azure%20TLS%20Issuing%20CA%2001%20-%20xsign.crt0-\\x06\\x08+\\x06\\x01\\x05\\x05\\x070\\x01\\x86!http://oneocsp.microsoft.com/ocsp0\\x1d\\x06\\x03U\\x1d\\x0e\\x04\\x16\\x04\\x14:\\xc6)1\\x83\\xd3\\xf5\\xa0o\\x11\\x08\\x83[/\\xf2\\xaa\\x03]\\xe1\\xc00\\x0e\\x06\\x03U\\x1d\\x0f\\x01\\x01\\xff\\x04\\x04\\x03\\x02\\x04\\xb00\\x82\\x01\\x7f\\x06\\x03U\\x1d\\x11\\x04\\x82\\x01v0\\x82\\x01r\\x82\\x1b*.events.data.microsoft.com\\x82\\x19events.d'\n",
      " b'ata.microsoft.com\\x82\\x19*.pipe.aria.microsoft.com\\x82\\x0epipe.skype.com\\x82\\x10*.pipe.skype.com\\x82\"*.mobile.events.data.microsoft.com\\x82 mobile.events.data.microsoft.com\\x82\\x15*.events.data.msn.com\\x82\\x13events.data.msn.com\\x82\\x14*.events.data.msn.cn\\x82\\x12events.data.msn.cn\\x82\\x11oca.microsoft.com\\x82\\x14watson.microsoft.com\\x82\\x1b*.vortex.data.microsoft.com\\x82\\x19vortex.data.microsoft.com0\\x0c\\x06\\x03U\\x1d\\x13\\x01\\x01\\xff\\x04\\x020\\x000d\\x06\\x03U\\x1d\\x1f\\x04]0[0Y\\xa0W\\xa0U\\x86Shttp://www.microsoft.com/pkiops/crl/Microsoft%20Azure%20TLS%20Issuing%20CA%2001.crl0f\\x06\\x03U\\x1d \\x04_0]0Q\\x06\\x0c+\\x06\\x01\\x04\\x01\\x827L\\x83}\\x01\\x010A0?\\x06\\x08+\\x06\\x01\\x05\\x05\\x07\\x02\\x01\\x163http://www.microsoft.com/pkiops/Docs/Repository.htm0\\x08\\x06\\x06g\\x81\\x0c\\x01\\x02\\x020\\x1f\\x06\\x03U\\x1d#\\x04\\x180\\x16\\x80\\x14\\x0f ]\\xd7\\xa1W\\x95\\xdb\\x92\\xcf+\\xd0\\xc7\\xc2w\\x04\\xcer\\x80v0\\x1d\\x06\\x03U\\x1d%\\x04\\x160\\x14\\x06\\x08+\\x06\\x01\\x05\\x05\\x07\\x03\\x02\\x06\\x08+\\x06\\x01\\x05\\x05\\x07\\x03\\x010\\r\\x06\\t*\\x86H\\x86\\xf7\\r\\x01\\x01\\x0c\\x05\\x00\\x03\\x82\\x02\\x01\\x00u\\x9e\\x10\\xc9\\x08\\x01\\x81\\xaf\\x8a\\x82\\x95\\x0cU@\\xf6\\x86E\\xc4L\\xe3\\xe0k\\xac\\t\\x8bA\\x9b\\r\\xd52\\xaa\\xdbp\\xfc\\x1e\\xaf}<h\\xd0Z\\xe6Kd\\x1dL,\\x94\\xb1o\\xfe\\x99/r#\\xef{\\x98\\xdd\\xa6\\xf0i\\xc9\\x90[\\xf3$\\xa5I\\xf0+Qt\\x8b\\x96\\x98\\xf4LPY\\xf1~6\\x83Md\\xa7\\x95\\x8bB\\xbf\\x89\\xa9\\n\\xb152\\x8c)\\xef\\xf8D\\xe0\\xeaYW\\\\L\\xd1\\x19_D\\xb5\\xf7r\\xb5\\xff\\tW;\\x118\\x98=\\xeb\\x03\\xe3:`AsL\\xa3\\x97\\x8e\\'\\t\\xc8tD5Y\\x0c\\xef\\xbd<\\xf0\\xbby\\xaeA\\n\\xd2\\xc0\\x97\\xe2\\x8d\\xf5\\xe6/G{L\\x92\\x9b\\xe1\\x15\\x8bG5\\xa4\\x07>D1\\x90u!\\xa1\\xac\\xb3=-\\x12B1\\x83\\x13\"\\x8a\\x9d\\xaa,kg\\xfdQ\\xcf\\xbf\\x14L\\x92\\x91I\\xa4\\xd3\\xfe\\xe3m&\\xd7d?\\x1d\\xc6U\\xef\\xf6\\xa29\\xe0\\x86\\xa0w\\xc3\\x05\\x19\\xf00\\x91|+\\x0b\\xbdQ\\xda\\xd4\\xbc\\xdd?r\\xbd>2h\\x83\\xa0q\\xe8\\x0bX\\x8dI\\x0f2M\\xc5\\x89\\x1e\\x99\\xc4!\\x06\\xf3\\xb5\\xe0\\xe3\\x1c\\xd3\\xcfpL\\xddT\\xe14\\xd0\\xa6t\\x0c}\\x97\\xf2\\xb6\\xd7\\x8a\\x05\\x85J\\xac\\xd9\\x1a\\x8c\\x8fJZ\\xd9\\x16\\x86I\\nT\\x05[\\x93\\x97\\x96j\\xfa\\xd8\\x9a|5\\x8e\\x9c\\xb4d\\tw(\\xea\\xbb\\xf5x\\x95\\x8b\\x98\\xde\\xa3\\xa5k\\x99IV#\\x83G\\xed79q\\x18C\\xd9\\x87\\x97\\x16\\xc4@M\\x05\\x879\\x9ez\\x90i*eo\\xb7\\r\\x11\\x95\\tc\\x04\\x12l\\xb3\\xe1\\x02bIur\\xca|\\x04r\\x80\\x902\\xaa1\\x16\\xac\\xb0\\xa1\\x1a_\\xecEV\"\\x8e\\x13V\\x97W\\x05t7\\x1as\\xc12B\\x0c\\xc7\\xa1\\xfc9\\xdf0\\xbc~G`\\x80\\xbcV\\x1e\\x92\\x17V\\xa7\\xdeM\\x08\\xd1\\nK=\\x1c\\xd4\\x9aa\\xe0q\\xbc\\xb0\\x80\\xe8\\xf6\\xee\\x9bF\\x13\\xfc\\x19v\\xeeX\\xc3\\x13b\\x99\\xbe\\xc1\\xb7\\'\\xb5\\xca\\xca\\x9ck\\xce\\xc5\\xa7 \\xe8/!]\\x97\\xdbv)I\\x99\\x19\\xe9\\xc8\\x8ej\\xa5\\x08\\x94\\x9c\\x9d\\xd4\\xd3F\\x1f\\xdc\\x00\\xb6\\x90\\x1b\\xbbf\\xa6\\xbc\\x00\\xe9\\xd0\\xae\\xd2\\xae\\xf5\\xf7\\x00\\x05\\xf70\\x82\\x05\\xf30\\x82\\x04\\xdb\\xa0\\x03\\x02\\x01\\x02\\x02\\x10\\n\\xaf\\xa6\\xc5\\xcac\\xc4QA\\xea;\\xe1\\xf7\\xc7S\\x170\\r\\x06\\t*\\x86H\\x86\\xf7\\r\\x01\\x01\\x0c\\x05\\x000a1\\x0b0\\t\\x06\\x03U\\x04\\x06\\x13\\x02US1\\x150\\x13\\x06\\x03U\\x04\\n\\x13\\x0cDigiCert Inc1\\x190\\x17\\x06\\x03U\\x04\\x0b\\x13\\x10www.digicert.com1 0\\x1e\\x06\\x03U\\x04\\x03\\x13\\x17DigiCert Global Root G20\\x1e\\x17\\r200729123000Z\\x17\\r240627235959Z0Y1\\x0b0\\t\\x06\\x03U\\x04\\x06\\x13\\x02US1\\x1e0\\x1c\\x06\\x03U\\x04\\n\\x13\\x15Microsoft Corporation1*0(\\x06\\x03U\\x04\\x03\\x13!Microsoft Azure TLS Issuing CA 010\\x82\\x02\"0\\r\\x06\\t*\\x86H\\x86\\xf7\\r\\x01\\x01\\x01\\x05\\x00\\x03\\x82\\x02\\x0f\\x000\\x82\\x02\\n\\x02\\x82\\x02\\x01\\x00\\xc7\\x9dp:\\xe4^\\xe7\\xcf\\xee'\n",
      " b''\n",
      " b\"\\x16\\x03\\x03\\x00f\\x10\\x00\\x00ba\\x04\\xe5\\x9a\\xf6\\x92V,0\\\\\\xdf;N{\\x06\\x84\\x1c\\xdf\\x0b\\xb8\\r\\xd5\\xe1\\x9eh\\x9e\\x19\\xae\\xe1\\x0b*pF\\x1b\\xd4\\x8b\\x93e?m\\x8er\\x86[\\xce$\\xe5_\\x85\\xfa\\x83%\\x956\\x12\\xc3\\xa3h\\xd8k\\x18kt\\x19\\x03\\xcb9!K\\x05\\xcdC\\xd9\\x1d\\xcf\\xd0[\\x0e\\xb5V/4\\xdb\\xf7\\x96\\xc5N@\\xc9\\xe4&\\xce\\xc5\\x93\\r)l,\\x14\\x03\\x03\\x00\\x01\\x01\\x16\\x03\\x03\\x00(\\x00\\x00\\x00\\x00\\x00\\x00\\x00\\x00Y\\xdd\\n>\\x7fF/\\xd5@\\xa8RU\\x08{\\xe3W'\\x97R\\x9c\\x17v@\\xd9\\xa1U\\x0e\\xe2|a \\xfc\"\n",
      " b'\\x9cU\\x9bQG,3@\\xf4\\x88\\xf0\\x1d\\xa3(i\\x8f\\x1a\\xae\\xaa\\x99\\xe0g\\xdf\\xe3\\x1c\\xabG(\\'j\\xf5\\xcb\\xee\\rv0\\xf01\\xf1\\x0e\\x83w\\xd8_\\x07:\\xdf[\\x19\\x05\\xd0\\x1a\\xf6\\xc0\\x8b\\xe5\\xbeL\\xd6\\xd3Y\\xda5T\\xa4\\x1e\\x9f\\x8eKxK\\xddn\\xa7\\x97\\xf8\\xd8\\xbd\\x99\\xd5x\\x95\\xe3\\xb6\\xc2\\x98qr\\x1f\\xff\\xa5\\xad\\xb2\\x97\\x05\\xe5\\xac%C\\xd2\\xd9%\\xc8\\xf0h~\\xca\\xa1\\x9b\\x8a\\xf91\\xe9\\\\#-\\xcc?\\x175Wf\\x19o\\xc9#@\\xbf\\xedO\\xc4\\xed\\xeb\\xd7\\x9f\\xd5\\xc3\\x8a\\x8f\\x12bA\\x923\\xad\\xda,\\xeeA\\xb4\\xb0\\xaf\\xd3\\xdd\\xbe\\xd5\\xde\\x06\\x18\\x14\\x90b\\x89Q\\xab\\xee\\xcfwY\\x11\\x12E\\x81>m2\\xc1\\x9d\\x95o\\xc1\\x88K\\x90\\xcb\\xae7\\xa5\\x12@g(,\\xb2\\xdc\\x1d2B\\xe7}v\\x95l\\x89G\\x84\\xec^lc\\xc3\\x1e\\xf7\\xa5\\x95\\xc5\\x07\\x1b;&\\x1d\\x11\\x8f\\xe3\\xff\\xd5)\\x0eS\\x86\\xfa\\xf0>b\\x03\\xaf\\x06\\x19\\n\\x128\\xaa\\xca\\x05i?\\xc1\\x19\\xa0\\xc3\"\\x8d\\xeaa\\xce\\x0e7o\\x94\"\\xf6\\xbeT\\xae\\xf6(\\xa3_hG\\xff)\\x7f\\x81\\xc943\\xc5\\xd3\\xf1I\\xc0UL[\\xc3\\xe6\\x08\\x12\\xc6\\xb2\\xd8\\xa7\\xdc\\xd15\\xf8\\xd7\\x96NA\\xad\\xd1<\\xe9\\x1e8\\n\\xc9\\xf6\\x83?kN\\xe1\\xb0\\xa4\\xd4n\\xe9?i\\x03\\x15>\\xd2a\\xf7<\\xc5\\xb8\\x02\\x90T6P!\\x17\\xb1\\xa1\\xff\\x7f\\x96&\\xa4\\xb9\\xf8`\\xf8\\x8d\\x14\\'\\x9e\"\\'Z\\xef\\x19\\xdfN\\xf78\\xec\\x8crU\\xc7\\x07\\x1e\\xadE\\xccl\\xa0:\\xa7\\xa6\\xaf\\x11\\x04L\\xa8|\\x86\\xf0\\xd1\\xe9\\xe0]\\xac\\x1c&\\x08u`f\\xb9\\xc0\\xaay\\xfd\\xdc\\x9bF\\xc8\\xf2\\xe2\\xeb\\xe7#XeF\\xb4\\xc6G\\xc35o_Q\\xefHQ\\xbb\\xef[,\\x91\\xc1#\\'\\x18\\x905\\x00\\xd0Ea\\xc4\\x87sq\\xbc\\xd6\\xfb\\x90Y@^u]FI/\\x86:Q\\x19\\xc8E\\x8503\\xaal%\\xb5\\xd5\\xa1X12\\x08\\xc2\\x82\\xdb\\x1f\\xe6I\\x9b\\xd9\\xb6VFc\\xe87\\xed\\x8e\\xf6\\xa8|\\xe2w\\x0br[\\xba\\xc1z\\xd6I\\x02\\x03\\x01\\x00\\x01\\xa3\\x82\\x01\\xad0\\x82\\x01\\xa90\\x1d\\x06\\x03U\\x1d\\x0e\\x04\\x16\\x04\\x14\\x0f ]\\xd7\\xa1W\\x95\\xdb\\x92\\xcf+\\xd0\\xc7\\xc2w\\x04\\xcer\\x80v0\\x1f\\x06\\x03U\\x1d#\\x04\\x180\\x16\\x80\\x14N\"T \\x18\\x95\\xe6\\xe3n\\xe6\\x0f\\xfa\\xfa\\xb9\\x12\\xed\\x06\\x17\\x8f90\\x0e\\x06\\x03U\\x1d\\x0f\\x01\\x01\\xff\\x04\\x04\\x03\\x02\\x01\\x860\\x1d\\x06\\x03U\\x1d%\\x04\\x160\\x14\\x06\\x08+\\x06\\x01\\x05\\x05\\x07\\x03\\x01\\x06\\x08+\\x06\\x01\\x05\\x05\\x07\\x03\\x020\\x12\\x06\\x03U\\x1d\\x13\\x01\\x01\\xff\\x04\\x080\\x06\\x01\\x01\\xff\\x02\\x01\\x000v\\x06\\x08+\\x06\\x01\\x05\\x05\\x07\\x01\\x01\\x04j0h0$\\x06\\x08+\\x06\\x01\\x05\\x05\\x070\\x01\\x86\\x18http://ocsp.digicert.com0@\\x06\\x08+\\x06\\x01\\x05\\x05\\x070\\x02\\x864http://cacerts.digicert.com/DigiCertGlobalRootG2.crt0{\\x06\\x03U\\x1d\\x1f\\x04t0r07\\xa05\\xa03\\x861http://crl3.digicert.com/DigiCertGlobalRootG2.crl07\\xa05\\xa03\\x861http://crl4.digicert.com/DigiCertGlobalRootG2.crl0\\x1d\\x06\\x03U\\x1d \\x04\\x160\\x140\\x08\\x06\\x06g\\x81\\x0c\\x01\\x02\\x010\\x08\\x06\\x06g\\x81\\x0c\\x01\\x02\\x020\\x10\\x06\\t+\\x06\\x01\\x04\\x01\\x827\\x15\\x01\\x04\\x03\\x02\\x01\\x000\\r\\x06\\t*\\x86H\\x86\\xf7\\r\\x01\\x01\\x0c\\x05\\x00\\x03\\x82\\x01\\x01\\x00%\\x16\\xf3a\\xed\\x08\\x17T\\xb0\\x19J\\xc3Q\\xd9tf\"\\x7fbK\\xc3\\x87\\x14 @[\\x12\\x89\\xa2/\\x18a\\x06\\x9f\\xa4\\xc4\\xe42\\xa7\\xae\\xce\\x82\\xf7\\x1df\\xf5\\xa5\\x81\"\\xa6\\xc0\\xe4\\x86#\\'\\xae\\x97\\xdea\\x91\\x00\\xec\\xbc\\xfb\\xca\\xa1\\x04\\xb5\\xf8\\x07p@l+\\xd2\\x9cJ\\xd4\\x06\\x19\\x94_\\x99e4\\xee\\x13\\xd7\\x1eqs\\xfb\\x98\\x13^\\xac\\xc2\\x13c\\xc12T`UF\\t\\x88\\r\\xb9\\x98\\x93\\xd7|\\x1d4\\x80;\\xc6\\x86\\xd6\\x1a\\xfaa\\r\\xc0\\xcfA\\xabP}a\\x82\\xf2.4mS?\\x1c\\xc8k\\x1d\\xc92\\x06\\xfd\\xb0L\\xfd\\x0fcq_\\t\\x1a\\xa3\\x14\\xfdH\\xc0v\\x1di\\x17$\\xe7\\x9cq%c\\x9fM\\xa6.\\xc5\\xf3\\xb6ja\\x82D\\x1c\\x936,`\\xfe\\x95\\xef\\x15\\xb0x\\xe0ye\\xf6\\x08\\x94$\\xa3\\xb9%^\\xf7\"\\xce\\xe6oP@\\xd3\\x8cv\\x90r\\xcd\\x89\\xfaC\\xe0\\x7f#\\x089\\x8dC0\\x9d\\xb57\\x13\\x89\\xdb\\x13\\xd1\\x0b\\xfc\\x00\\x87\\xf8sH\\x14U\\xb6\\x80\\'\\xca\\xecm\\x91\\x9e\\x15\\x8c\\x83\\xa1\\x0c\\x00\\x01i\\x03\\x00\\x18a\\x04*:.\\xeb\\xdapFZ9\\xc1\\x9d\\x9b\\xaf\\xa1\\xba8K\\xb7,\\x12\\x10B\\xea)|R\\xc0\\xe1\\x9c\\xc2\\x9d\\xe2/\\'\\x0b\\x7fw~\\xc8\\xf0\\xe8l\\xac\\x9a\\t\\xbe..\\xad\\x14\\xae\\xa6[R\\xad\\xc4F\\xa7W;H;-\\xb6\\xe4\\xde\\xd6@\\xfc\\xe1X\\xd0YC\\xa2\\xf8\\xb21\\x17\\xf8\\xd1\\xca\\xc3\\x15\\xba\\xce\\xdc\\xeb\\x9c\\x18r\\x9a:\\xeb\\xc7\\x9a\\x04\\x01\\x01\\x00\\xae\\xc4\\xf2e\\x9bX\\'i\\x91|\\x04\\xde\\x1f\\xab\\xbe3\\xdd\\xcf\\xa5\\xb4\\xbd\\xc1\\xf5\\xcd\\x08\\xd5#\\x92\\xdb\\x1d\\x0bS\\xedwE\\xe3T\\x03\\x9a\\xf6\\xaa\\xd3Y\\xe7\\x84\\x1b\\xdc8W\\x8c\\x11\\x93\\'R\\x9f\\x05\\xcf\\x99\\xc0*,Mm\\xc2\\x89\\xdd\\x9a\\xfc\\x87U\\x00\\xa6\\xe78&/\\xb5\\xe1cx\\xc5b\\x87>\\x8d\\xbbVlm{\\xd5\\xd8P\\x803e\\xda\\xab\\x10\\x17+\\xf0H\\xe4\\xcc\\xab\\xf6?\\x8e\\xd2\\xa8!\\xd3B\\xcd\\x8c\\xe9\\x82{\\n.\\xfe\\xaf\\xd1\\xb3\\xbbf\\x1b\\xdcv\\x1f\\xb8\\x84\\x88'] \n",
      "\n",
      "\n",
      "[b'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'\n",
      " b'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'\n",
      " b'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'\n",
      " b'686c5e2c20c696f209d5cdff89f2016344ebec39c964a3457814c71e82506c1adbd116783937775703000544b56afd05273a0d69615af5383fd9b1c4dc25a8abd130ad72f9d8e2853a238b7145f4966b807cf00fcaaea83eff5fd110240a25a69027269ea6f71ff733daad98f3bd7592e6253ae4286e81c544530e000000'\n",
      " b''\n",
      " b'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'\n",
      " b'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'\n",
      " b''\n",
      " b'1603030066100000626104e59af692562c305cdf3b4e7b06841cdf0bb80dd5e19e689e19aee10b2a70461bd48b93653f6d8e72865bce24e55f85fa8325953612c3a368d86b186b741903cb39214b05cd43d91dcfd05b0eb5562f34dbf796c54e40c9e426cec5930d296c2c1403030001011603030028000000000000000059dd0a3e7f462fd540a85255087be3572797529c177640d9a1550ee27c6120fc'\n",
      " b'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'] \n",
      "\n",
      "\n"
     ]
    }
   ],
   "source": [
    "condicion = (df['src'] == frequent_address1) & (df['dst'] == ip_intercambio_maximo)\n",
    "nuevo_df4 = df.loc[condicion]\n",
    "\n",
    "payloads1 = df['payload_raw'].to_numpy()\n",
    "print(payloads1, \"\\n\\n\")\n",
    "\n",
    "payloads2 = df['payload_hex'].to_numpy()\n",
    "print(payloads2, \"\\n\\n\")"
   ]
  },
  {
   "attachments": {},
   "cell_type": "markdown",
   "metadata": {},
   "source": [
    "    Examine los primeros bytes del contenido, ¿encuentra algún dato que no haga sentido que se envié a través del puerto explicado en el inciso f? La verdad no pero tengo la inquietud de que sí hay algún dato sospechoso."
   ]
  }
 ],
 "metadata": {
  "kernelspec": {
   "display_name": "Python 3",
   "language": "python",
   "name": "python3"
  },
  "language_info": {
   "codemirror_mode": {
    "name": "ipython",
    "version": 3
   },
   "file_extension": ".py",
   "mimetype": "text/x-python",
   "name": "python",
   "nbconvert_exporter": "python",
   "pygments_lexer": "ipython3",
   "version": "3.10.4"
  },
  "orig_nbformat": 4
 },
 "nbformat": 4,
 "nbformat_minor": 2
}
